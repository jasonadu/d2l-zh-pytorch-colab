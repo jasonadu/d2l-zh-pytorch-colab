{
  "cells": [
    {
      "cell_type": "markdown",
      "metadata": {
        "id": "view-in-github",
        "colab_type": "text"
      },
      "source": [
        "<a href=\"https://colab.research.google.com/github/jasonadu/d2l-zh-pytorch-colab/blob/main/chapter_preliminaries/ndarray_20240306.ipynb\" target=\"_parent\"><img src=\"https://colab.research.google.com/assets/colab-badge.svg\" alt=\"Open In Colab\"/></a>"
      ]
    },
    {
      "cell_type": "markdown",
      "id": "8e54cd7b",
      "metadata": {
        "origin_pos": 0,
        "id": "8e54cd7b"
      },
      "source": [
        "# 数据操作\n",
        ":label:`sec_ndarray`\n",
        "\n",
        "为了能够完成各种数据操作，我们需要某种方法来存储和操作数据。\n",
        "通常，我们需要做两件重要的事：（1）获取数据；（2）将数据读入计算机后对其进行处理。\n",
        "如果没有某种方法来存储数据，那么获取数据是没有意义的。\n",
        "\n",
        "首先，我们介绍$n$维数组，也称为*张量*（tensor）。\n",
        "使用过Python中NumPy计算包的读者会对本部分很熟悉。\n",
        "无论使用哪个深度学习框架，它的*张量类*（在MXNet中为`ndarray`，\n",
        "在PyTorch和TensorFlow中为`Tensor`）都与Numpy的`ndarray`类似。\n",
        "但深度学习框架又比Numpy的`ndarray`多一些重要功能：\n",
        "首先，GPU很好地支持加速计算，而NumPy仅支持CPU计算；\n",
        "其次，张量类支持自动微分。\n",
        "这些功能使得张量类更适合深度学习。\n",
        "如果没有特殊说明，本书中所说的张量均指的是张量类的实例。\n",
        "\n",
        "## 入门\n",
        "\n",
        "本节的目标是帮助读者了解并运行一些在阅读本书的过程中会用到的基本数值计算工具。\n",
        "如果你很难理解一些数学概念或库函数，请不要担心。\n",
        "后面的章节将通过一些实际的例子来回顾这些内容。\n",
        "如果你已经具有相关经验，想要深入学习数学内容，可以跳过本节。\n"
      ]
    },
    {
      "cell_type": "markdown",
      "id": "a07b55fb",
      "metadata": {
        "origin_pos": 2,
        "tab": [
          "pytorch"
        ],
        "id": "a07b55fb"
      },
      "source": [
        "(**首先，我们导入`torch`。请注意，虽然它被称为PyTorch，但是代码中使用`torch`而不是`pytorch`。**)\n"
      ]
    },
    {
      "cell_type": "code",
      "execution_count": 1,
      "id": "278e6d3f",
      "metadata": {
        "execution": {
          "iopub.execute_input": "2023-08-18T07:05:01.545874Z",
          "iopub.status.busy": "2023-08-18T07:05:01.545147Z",
          "iopub.status.idle": "2023-08-18T07:05:02.992816Z",
          "shell.execute_reply": "2023-08-18T07:05:02.991719Z"
        },
        "origin_pos": 5,
        "tab": [
          "pytorch"
        ],
        "id": "278e6d3f"
      },
      "outputs": [],
      "source": [
        "import torch"
      ]
    },
    {
      "cell_type": "markdown",
      "id": "ad15bff7",
      "metadata": {
        "origin_pos": 8,
        "id": "ad15bff7"
      },
      "source": [
        "[**张量表示一个由数值组成的数组，这个数组可能有多个维度**]。\n",
        "具有一个轴的张量对应数学上的*向量*（vector）；\n",
        "具有两个轴的张量对应数学上的*矩阵*（matrix）；\n",
        "具有两个轴以上的张量没有特殊的数学名称。\n"
      ]
    },
    {
      "cell_type": "markdown",
      "id": "0723e844",
      "metadata": {
        "origin_pos": 10,
        "tab": [
          "pytorch"
        ],
        "id": "0723e844"
      },
      "source": [
        "首先，我们可以使用 `arange` 创建一个行向量 `x`。这个行向量包含以0开始的前12个整数，它们默认创建为整数。也可指定创建类型为浮点数。张量中的每个值都称为张量的 *元素*（element）。例如，张量 `x` 中有 12 个元素。除非额外指定，新的张量将存储在内存中，并采用基于CPU的计算。\n"
      ]
    },
    {
      "cell_type": "code",
      "execution_count": null,
      "id": "b1700627",
      "metadata": {
        "execution": {
          "iopub.execute_input": "2023-08-18T07:05:02.997386Z",
          "iopub.status.busy": "2023-08-18T07:05:02.996970Z",
          "iopub.status.idle": "2023-08-18T07:05:03.007632Z",
          "shell.execute_reply": "2023-08-18T07:05:03.006483Z"
        },
        "origin_pos": 13,
        "tab": [
          "pytorch"
        ],
        "id": "b1700627",
        "outputId": "09d9661b-c41a-478e-b420-7f5ebd482fa0"
      },
      "outputs": [
        {
          "data": {
            "text/plain": [
              "tensor([ 0,  1,  2,  3,  4,  5,  6,  7,  8,  9, 10, 11])"
            ]
          },
          "execution_count": 2,
          "metadata": {},
          "output_type": "execute_result"
        }
      ],
      "source": [
        "x = torch.arange(12)\n",
        "x"
      ]
    },
    {
      "cell_type": "markdown",
      "id": "6c8ebb1e",
      "metadata": {
        "origin_pos": 16,
        "id": "6c8ebb1e"
      },
      "source": [
        "[**可以通过张量的`shape`属性来访问张量（沿每个轴的长度）的*形状***]\n",
        "(~~和张量中元素的总数~~)。\n"
      ]
    },
    {
      "cell_type": "code",
      "execution_count": null,
      "id": "b86b6572",
      "metadata": {
        "execution": {
          "iopub.execute_input": "2023-08-18T07:05:03.011628Z",
          "iopub.status.busy": "2023-08-18T07:05:03.011110Z",
          "iopub.status.idle": "2023-08-18T07:05:03.017191Z",
          "shell.execute_reply": "2023-08-18T07:05:03.016193Z"
        },
        "origin_pos": 17,
        "tab": [
          "pytorch"
        ],
        "id": "b86b6572",
        "outputId": "19f7ecb5-8d1a-41b5-d0ad-3d7e2561d270"
      },
      "outputs": [
        {
          "data": {
            "text/plain": [
              "torch.Size([12])"
            ]
          },
          "execution_count": 3,
          "metadata": {},
          "output_type": "execute_result"
        }
      ],
      "source": [
        "x.shape"
      ]
    },
    {
      "cell_type": "markdown",
      "id": "25cabae8",
      "metadata": {
        "origin_pos": 18,
        "id": "25cabae8"
      },
      "source": [
        "如果只想知道张量中元素的总数，即形状的所有元素乘积，可以检查它的大小（size）。\n",
        "因为这里在处理的是一个向量，所以它的`shape`与它的`size`相同。\n"
      ]
    },
    {
      "cell_type": "code",
      "execution_count": null,
      "id": "b8b69ca9",
      "metadata": {
        "execution": {
          "iopub.execute_input": "2023-08-18T07:05:03.020938Z",
          "iopub.status.busy": "2023-08-18T07:05:03.020483Z",
          "iopub.status.idle": "2023-08-18T07:05:03.026998Z",
          "shell.execute_reply": "2023-08-18T07:05:03.025752Z"
        },
        "origin_pos": 20,
        "tab": [
          "pytorch"
        ],
        "id": "b8b69ca9",
        "outputId": "7167431e-335e-4c5f-e5ca-13cc9dc865e0"
      },
      "outputs": [
        {
          "data": {
            "text/plain": [
              "12"
            ]
          },
          "execution_count": 4,
          "metadata": {},
          "output_type": "execute_result"
        }
      ],
      "source": [
        "x.numel()"
      ]
    },
    {
      "cell_type": "markdown",
      "id": "af15bcd6",
      "metadata": {
        "origin_pos": 23,
        "id": "af15bcd6"
      },
      "source": [
        "[**要想改变一个张量的形状而不改变元素数量和元素值，可以调用`reshape`函数。**]\n",
        "例如，可以把张量`x`从形状为（12,）的行向量转换为形状为（3,4）的矩阵。\n",
        "这个新的张量包含与转换前相同的值，但是它被看成一个3行4列的矩阵。\n",
        "要重点说明一下，虽然张量的形状发生了改变，但其元素值并没有变。\n",
        "注意，通过改变张量的形状，张量的大小不会改变。\n"
      ]
    },
    {
      "cell_type": "code",
      "execution_count": null,
      "id": "0f294243",
      "metadata": {
        "execution": {
          "iopub.execute_input": "2023-08-18T07:05:03.031842Z",
          "iopub.status.busy": "2023-08-18T07:05:03.031448Z",
          "iopub.status.idle": "2023-08-18T07:05:03.039288Z",
          "shell.execute_reply": "2023-08-18T07:05:03.038227Z"
        },
        "origin_pos": 24,
        "tab": [
          "pytorch"
        ],
        "id": "0f294243",
        "outputId": "ba5b27ca-2781-4251-83c4-73a0c66fe103"
      },
      "outputs": [
        {
          "data": {
            "text/plain": [
              "tensor([[ 0,  1,  2,  3],\n",
              "        [ 4,  5,  6,  7],\n",
              "        [ 8,  9, 10, 11]])"
            ]
          },
          "execution_count": 5,
          "metadata": {},
          "output_type": "execute_result"
        }
      ],
      "source": [
        "X = x.reshape(3, 4)\n",
        "X"
      ]
    },
    {
      "cell_type": "markdown",
      "id": "eae533a0",
      "metadata": {
        "origin_pos": 27,
        "id": "eae533a0"
      },
      "source": [
        "我们不需要通过手动指定每个维度来改变形状。\n",
        "也就是说，如果我们的目标形状是（高度,宽度），\n",
        "那么在知道宽度后，高度会被自动计算得出，不必我们自己做除法。\n",
        "在上面的例子中，为了获得一个3行的矩阵，我们手动指定了它有3行和4列。\n",
        "幸运的是，我们可以通过`-1`来调用此自动计算出维度的功能。\n",
        "即我们可以用`x.reshape(-1,4)`或`x.reshape(3,-1)`来取代`x.reshape(3,4)`。\n",
        "\n",
        "有时，我们希望[**使用全0、全1、其他常量，或者从特定分布中随机采样的数字**]来初始化矩阵。\n",
        "我们可以创建一个形状为（2,3,4）的张量，其中所有元素都设置为0。代码如下：\n"
      ]
    },
    {
      "cell_type": "code",
      "execution_count": null,
      "id": "b23c3056",
      "metadata": {
        "execution": {
          "iopub.execute_input": "2023-08-18T07:05:03.044733Z",
          "iopub.status.busy": "2023-08-18T07:05:03.043866Z",
          "iopub.status.idle": "2023-08-18T07:05:03.052195Z",
          "shell.execute_reply": "2023-08-18T07:05:03.051146Z"
        },
        "origin_pos": 29,
        "tab": [
          "pytorch"
        ],
        "id": "b23c3056",
        "outputId": "1c4876eb-3d98-4794-a433-80434b3b1b54"
      },
      "outputs": [
        {
          "data": {
            "text/plain": [
              "tensor([[[0., 0., 0., 0.],\n",
              "         [0., 0., 0., 0.],\n",
              "         [0., 0., 0., 0.]],\n",
              "\n",
              "        [[0., 0., 0., 0.],\n",
              "         [0., 0., 0., 0.],\n",
              "         [0., 0., 0., 0.]]])"
            ]
          },
          "execution_count": 6,
          "metadata": {},
          "output_type": "execute_result"
        }
      ],
      "source": [
        "torch.zeros((2, 3, 4))"
      ]
    },
    {
      "cell_type": "markdown",
      "id": "6a180a12",
      "metadata": {
        "origin_pos": 32,
        "id": "6a180a12"
      },
      "source": [
        "同样，我们可以创建一个形状为`(2,3,4)`的张量，其中所有元素都设置为1。代码如下：\n"
      ]
    },
    {
      "cell_type": "code",
      "execution_count": null,
      "id": "25981960",
      "metadata": {
        "execution": {
          "iopub.execute_input": "2023-08-18T07:05:03.057264Z",
          "iopub.status.busy": "2023-08-18T07:05:03.056578Z",
          "iopub.status.idle": "2023-08-18T07:05:03.064973Z",
          "shell.execute_reply": "2023-08-18T07:05:03.063853Z"
        },
        "origin_pos": 34,
        "tab": [
          "pytorch"
        ],
        "id": "25981960",
        "outputId": "2a797d34-3dd1-4c5c-a25b-b5aa897ad5a1"
      },
      "outputs": [
        {
          "data": {
            "text/plain": [
              "tensor([[[1., 1., 1., 1.],\n",
              "         [1., 1., 1., 1.],\n",
              "         [1., 1., 1., 1.]],\n",
              "\n",
              "        [[1., 1., 1., 1.],\n",
              "         [1., 1., 1., 1.],\n",
              "         [1., 1., 1., 1.]]])"
            ]
          },
          "execution_count": 7,
          "metadata": {},
          "output_type": "execute_result"
        }
      ],
      "source": [
        "torch.ones((2, 3, 4))"
      ]
    },
    {
      "cell_type": "markdown",
      "id": "672f1257",
      "metadata": {
        "origin_pos": 37,
        "id": "672f1257"
      },
      "source": [
        "有时我们想通过从某个特定的概率分布中随机采样来得到张量中每个元素的值。\n",
        "例如，当我们构造数组来作为神经网络中的参数时，我们通常会随机初始化参数的值。\n",
        "以下代码创建一个形状为（3,4）的张量。\n",
        "其中的每个元素都从均值为0、标准差为1的标准高斯分布（正态分布）中随机采样。\n"
      ]
    },
    {
      "cell_type": "code",
      "execution_count": null,
      "id": "2493f09a",
      "metadata": {
        "execution": {
          "iopub.execute_input": "2023-08-18T07:05:03.069946Z",
          "iopub.status.busy": "2023-08-18T07:05:03.069231Z",
          "iopub.status.idle": "2023-08-18T07:05:03.077304Z",
          "shell.execute_reply": "2023-08-18T07:05:03.076139Z"
        },
        "origin_pos": 39,
        "tab": [
          "pytorch"
        ],
        "id": "2493f09a",
        "outputId": "4523676e-1de4-4bce-cb03-3315c8ed5553"
      },
      "outputs": [
        {
          "data": {
            "text/plain": [
              "tensor([[-0.0135,  0.0665,  0.0912,  0.3212],\n",
              "        [ 1.4653,  0.1843, -1.6995, -0.3036],\n",
              "        [ 1.7646,  1.0450,  0.2457, -0.7732]])"
            ]
          },
          "execution_count": 8,
          "metadata": {},
          "output_type": "execute_result"
        }
      ],
      "source": [
        "torch.randn(3, 4)"
      ]
    },
    {
      "cell_type": "markdown",
      "id": "cc2299f0",
      "metadata": {
        "origin_pos": 42,
        "id": "cc2299f0"
      },
      "source": [
        "我们还可以[**通过提供包含数值的Python列表（或嵌套列表），来为所需张量中的每个元素赋予确定值**]。\n",
        "在这里，最外层的列表对应于轴0，内层的列表对应于轴1。\n"
      ]
    },
    {
      "cell_type": "code",
      "execution_count": 2,
      "id": "708be494",
      "metadata": {
        "execution": {
          "iopub.execute_input": "2023-08-18T07:05:03.082360Z",
          "iopub.status.busy": "2023-08-18T07:05:03.081424Z",
          "iopub.status.idle": "2023-08-18T07:05:03.090148Z",
          "shell.execute_reply": "2023-08-18T07:05:03.088973Z"
        },
        "origin_pos": 44,
        "tab": [
          "pytorch"
        ],
        "id": "708be494",
        "outputId": "26578d46-618b-4f35-9e10-0e27aa4f95d7",
        "colab": {
          "base_uri": "https://localhost:8080/"
        }
      },
      "outputs": [
        {
          "output_type": "execute_result",
          "data": {
            "text/plain": [
              "tensor([[2, 1, 4, 3],\n",
              "        [1, 2, 3, 4],\n",
              "        [4, 3, 2, 1]])"
            ]
          },
          "metadata": {},
          "execution_count": 2
        }
      ],
      "source": [
        "torch.tensor([[2, 1, 4, 3], [1, 2, 3, 4], [4, 3, 2, 1]])"
      ]
    },
    {
      "cell_type": "code",
      "source": [
        "# add [] outside\n",
        "Z = torch.tensor([[[2, 1, 4, 3], [1, 2, 3, 4], [4, 3, 2, 1]]])\n",
        "Z.shape"
      ],
      "metadata": {
        "id": "cg0OFucPrUTN",
        "outputId": "149ee2af-ae12-42da-ecda-99bfb48cc0ba",
        "colab": {
          "base_uri": "https://localhost:8080/"
        }
      },
      "id": "cg0OFucPrUTN",
      "execution_count": 3,
      "outputs": [
        {
          "output_type": "execute_result",
          "data": {
            "text/plain": [
              "torch.Size([1, 3, 4])"
            ]
          },
          "metadata": {},
          "execution_count": 3
        }
      ]
    },
    {
      "cell_type": "markdown",
      "id": "561a2ec6",
      "metadata": {
        "origin_pos": 47,
        "id": "561a2ec6"
      },
      "source": [
        "## 运算符\n",
        "\n",
        "我们的兴趣不仅限于读取数据和写入数据。\n",
        "我们想在这些数据上执行数学运算，其中最简单且最有用的操作是*按元素*（elementwise）运算。\n",
        "它们将标准标量运算符应用于数组的每个元素。\n",
        "对于将两个数组作为输入的函数，按元素运算将二元运算符应用于两个数组中的每对位置对应的元素。\n",
        "我们可以基于任何从标量到标量的函数来创建按元素函数。\n",
        "\n",
        "在数学表示法中，我们将通过符号$f: \\mathbb{R} \\rightarrow \\mathbb{R}$\n",
        "来表示*一元*标量运算符（只接收一个输入）。\n",
        "这意味着该函数从任何实数（$\\mathbb{R}$）映射到另一个实数。\n",
        "同样，我们通过符号$f: \\mathbb{R}, \\mathbb{R} \\rightarrow \\mathbb{R}$\n",
        "表示*二元*标量运算符，这意味着该函数接收两个输入，并产生一个输出。\n",
        "给定同一形状的任意两个向量$\\mathbf{u}$和$\\mathbf{v}$和二元运算符$f$，\n",
        "我们可以得到向量$\\mathbf{c} = F(\\mathbf{u},\\mathbf{v})$。\n",
        "具体计算方法是$c_i \\gets f(u_i, v_i)$，\n",
        "其中$c_i$、$u_i$和$v_i$分别是向量$\\mathbf{c}$、$\\mathbf{u}$和$\\mathbf{v}$中的元素。\n",
        "在这里，我们通过将标量函数升级为按元素向量运算来生成向量值\n",
        "$F: \\mathbb{R}^d, \\mathbb{R}^d \\rightarrow \\mathbb{R}^d$。\n",
        "\n",
        "对于任意具有相同形状的张量，\n",
        "[**常见的标准算术运算符（`+`、`-`、`*`、`/`和`**`）都可以被升级为按元素运算**]。\n",
        "我们可以在同一形状的任意两个张量上调用按元素操作。\n",
        "在下面的例子中，我们使用逗号来表示一个具有5个元素的元组，其中每个元素都是按元素操作的结果。\n"
      ]
    },
    {
      "cell_type": "code",
      "execution_count": 4,
      "id": "99b28553",
      "metadata": {
        "execution": {
          "iopub.execute_input": "2023-08-18T07:05:03.095504Z",
          "iopub.status.busy": "2023-08-18T07:05:03.094688Z",
          "iopub.status.idle": "2023-08-18T07:05:03.106084Z",
          "shell.execute_reply": "2023-08-18T07:05:03.104976Z"
        },
        "origin_pos": 49,
        "tab": [
          "pytorch"
        ],
        "id": "99b28553",
        "outputId": "4cfa8ad3-3f7b-4673-b87c-ee5d0698f7bc",
        "colab": {
          "base_uri": "https://localhost:8080/"
        }
      },
      "outputs": [
        {
          "output_type": "execute_result",
          "data": {
            "text/plain": [
              "(tensor([ 3.,  4.,  6., 10.]),\n",
              " tensor([-1.,  0.,  2.,  6.]),\n",
              " tensor([ 2.,  4.,  8., 16.]),\n",
              " tensor([0.5000, 1.0000, 2.0000, 4.0000]),\n",
              " tensor([ 1.,  4., 16., 64.]))"
            ]
          },
          "metadata": {},
          "execution_count": 4
        }
      ],
      "source": [
        "x = torch.tensor([1.0, 2, 4, 8])\n",
        "y = torch.tensor([2, 2, 2, 2])\n",
        "x + y, x - y, x * y, x / y, x ** y  # **运算符是求幂运算"
      ]
    },
    {
      "cell_type": "code",
      "source": [
        "# must match the size\n",
        "x = torch.tensor([1, 2])\n",
        "y = torch.tensor([2, 3, 4])\n",
        "x + y"
      ],
      "metadata": {
        "id": "HoAQP-0Bvf1h",
        "outputId": "1fa049c1-7c43-4251-bf8b-0b01473dcf8d",
        "colab": {
          "base_uri": "https://localhost:8080/",
          "height": 176
        }
      },
      "id": "HoAQP-0Bvf1h",
      "execution_count": 5,
      "outputs": [
        {
          "output_type": "error",
          "ename": "RuntimeError",
          "evalue": "The size of tensor a (2) must match the size of tensor b (3) at non-singleton dimension 0",
          "traceback": [
            "\u001b[0;31m---------------------------------------------------------------------------\u001b[0m",
            "\u001b[0;31mRuntimeError\u001b[0m                              Traceback (most recent call last)",
            "\u001b[0;32m<ipython-input-5-d31e1939b3f2>\u001b[0m in \u001b[0;36m<cell line: 3>\u001b[0;34m()\u001b[0m\n\u001b[1;32m      1\u001b[0m \u001b[0mx\u001b[0m \u001b[0;34m=\u001b[0m \u001b[0mtorch\u001b[0m\u001b[0;34m.\u001b[0m\u001b[0mtensor\u001b[0m\u001b[0;34m(\u001b[0m\u001b[0;34m[\u001b[0m\u001b[0;36m1\u001b[0m\u001b[0;34m,\u001b[0m \u001b[0;36m2\u001b[0m\u001b[0;34m]\u001b[0m\u001b[0;34m)\u001b[0m\u001b[0;34m\u001b[0m\u001b[0;34m\u001b[0m\u001b[0m\n\u001b[1;32m      2\u001b[0m \u001b[0my\u001b[0m \u001b[0;34m=\u001b[0m \u001b[0mtorch\u001b[0m\u001b[0;34m.\u001b[0m\u001b[0mtensor\u001b[0m\u001b[0;34m(\u001b[0m\u001b[0;34m[\u001b[0m\u001b[0;36m2\u001b[0m\u001b[0;34m,\u001b[0m \u001b[0;36m3\u001b[0m\u001b[0;34m,\u001b[0m \u001b[0;36m4\u001b[0m\u001b[0;34m]\u001b[0m\u001b[0;34m)\u001b[0m\u001b[0;34m\u001b[0m\u001b[0;34m\u001b[0m\u001b[0m\n\u001b[0;32m----> 3\u001b[0;31m \u001b[0mx\u001b[0m \u001b[0;34m+\u001b[0m \u001b[0my\u001b[0m\u001b[0;34m\u001b[0m\u001b[0;34m\u001b[0m\u001b[0m\n\u001b[0m",
            "\u001b[0;31mRuntimeError\u001b[0m: The size of tensor a (2) must match the size of tensor b (3) at non-singleton dimension 0"
          ]
        }
      ]
    },
    {
      "cell_type": "code",
      "source": [
        "x = torch.tensor([1, 2, 3])\n",
        "y = torch.tensor([2, 3, 4])\n",
        "x + y, x - y, x * y, x / y, x ** y"
      ],
      "metadata": {
        "id": "XZspf0nbx0mM",
        "outputId": "9a80697d-dfe6-4e04-c661-cfce0c68293e",
        "colab": {
          "base_uri": "https://localhost:8080/"
        }
      },
      "id": "XZspf0nbx0mM",
      "execution_count": 8,
      "outputs": [
        {
          "output_type": "execute_result",
          "data": {
            "text/plain": [
              "(tensor([3, 5, 7]),\n",
              " tensor([-1, -1, -1]),\n",
              " tensor([ 2,  6, 12]),\n",
              " tensor([0.5000, 0.6667, 0.7500]),\n",
              " tensor([ 1,  8, 81]))"
            ]
          },
          "metadata": {},
          "execution_count": 8
        }
      ]
    },
    {
      "cell_type": "markdown",
      "id": "1d37bed5",
      "metadata": {
        "origin_pos": 52,
        "id": "1d37bed5"
      },
      "source": [
        "(**“按元素”方式可以应用更多的计算**)，包括像求幂这样的一元运算符。\n"
      ]
    },
    {
      "cell_type": "code",
      "execution_count": 9,
      "id": "ef07c995",
      "metadata": {
        "execution": {
          "iopub.execute_input": "2023-08-18T07:05:03.110973Z",
          "iopub.status.busy": "2023-08-18T07:05:03.110221Z",
          "iopub.status.idle": "2023-08-18T07:05:03.120389Z",
          "shell.execute_reply": "2023-08-18T07:05:03.119471Z"
        },
        "origin_pos": 54,
        "tab": [
          "pytorch"
        ],
        "id": "ef07c995",
        "outputId": "689a08eb-9d31-4f7c-f794-9758ab86b7d7",
        "colab": {
          "base_uri": "https://localhost:8080/"
        }
      },
      "outputs": [
        {
          "output_type": "execute_result",
          "data": {
            "text/plain": [
              "tensor([ 2.7183,  7.3891, 20.0855])"
            ]
          },
          "metadata": {},
          "execution_count": 9
        }
      ],
      "source": [
        "torch.exp(x)"
      ]
    },
    {
      "cell_type": "markdown",
      "id": "cc76ca21",
      "metadata": {
        "origin_pos": 57,
        "id": "cc76ca21"
      },
      "source": [
        "除了按元素计算外，我们还可以执行线性代数运算，包括向量点积和矩阵乘法。\n",
        "我们将在 :numref:`sec_linear-algebra`中解释线性代数的重点内容。\n",
        "\n",
        "[**我们也可以把多个张量*连结*（concatenate）在一起**]，\n",
        "把它们端对端地叠起来形成一个更大的张量。\n",
        "我们只需要提供张量列表，并给出沿哪个轴连结。\n",
        "下面的例子分别演示了当我们沿行（轴-0，形状的第一个元素）\n",
        "和按列（轴-1，形状的第二个元素）连结两个矩阵时，会发生什么情况。\n",
        "我们可以看到，第一个输出张量的轴-0长度（$6$）是两个输入张量轴-0长度的总和（$3 + 3$）；\n",
        "第二个输出张量的轴-1长度（$8$）是两个输入张量轴-1长度的总和（$4 + 4$）。\n",
        "\n",
        "![image.png](data:image/png;base64,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)"
      ]
    },
    {
      "cell_type": "code",
      "execution_count": 10,
      "id": "a583b891",
      "metadata": {
        "execution": {
          "iopub.execute_input": "2023-08-18T07:05:03.125263Z",
          "iopub.status.busy": "2023-08-18T07:05:03.124477Z",
          "iopub.status.idle": "2023-08-18T07:05:03.136328Z",
          "shell.execute_reply": "2023-08-18T07:05:03.135199Z"
        },
        "origin_pos": 59,
        "tab": [
          "pytorch"
        ],
        "id": "a583b891",
        "outputId": "3e95ef67-faf7-4a71-bddf-1c2a377a0566",
        "colab": {
          "base_uri": "https://localhost:8080/"
        }
      },
      "outputs": [
        {
          "output_type": "execute_result",
          "data": {
            "text/plain": [
              "(tensor([[ 0.,  1.,  2.,  3.],\n",
              "         [ 4.,  5.,  6.,  7.],\n",
              "         [ 8.,  9., 10., 11.],\n",
              "         [ 2.,  1.,  4.,  3.],\n",
              "         [ 1.,  2.,  3.,  4.],\n",
              "         [ 4.,  3.,  2.,  1.]]),\n",
              " tensor([[ 0.,  1.,  2.,  3.,  2.,  1.,  4.,  3.],\n",
              "         [ 4.,  5.,  6.,  7.,  1.,  2.,  3.,  4.],\n",
              "         [ 8.,  9., 10., 11.,  4.,  3.,  2.,  1.]]))"
            ]
          },
          "metadata": {},
          "execution_count": 10
        }
      ],
      "source": [
        "X = torch.arange(12, dtype=torch.float32).reshape((3,4))\n",
        "Y = torch.tensor([[2.0, 1, 4, 3], [1, 2, 3, 4], [4, 3, 2, 1]])\n",
        "torch.cat((X, Y), dim=0), torch.cat((X, Y), dim=1)"
      ]
    },
    {
      "cell_type": "markdown",
      "id": "44965a95",
      "metadata": {
        "origin_pos": 62,
        "id": "44965a95"
      },
      "source": [
        "有时，我们想[**通过*逻辑运算符*构建二元张量**]。\n",
        "以`X == Y`为例：\n",
        "对于每个位置，如果`X`和`Y`在该位置相等，则新张量中相应项的值为1。\n",
        "这意味着逻辑语句`X == Y`在该位置处为真，否则该位置为0。\n"
      ]
    },
    {
      "cell_type": "code",
      "execution_count": 11,
      "id": "6405ec63",
      "metadata": {
        "execution": {
          "iopub.execute_input": "2023-08-18T07:05:03.141449Z",
          "iopub.status.busy": "2023-08-18T07:05:03.140776Z",
          "iopub.status.idle": "2023-08-18T07:05:03.148692Z",
          "shell.execute_reply": "2023-08-18T07:05:03.147491Z"
        },
        "origin_pos": 63,
        "tab": [
          "pytorch"
        ],
        "id": "6405ec63",
        "outputId": "0f542665-428c-4077-fd14-c106020459dc",
        "colab": {
          "base_uri": "https://localhost:8080/"
        }
      },
      "outputs": [
        {
          "output_type": "execute_result",
          "data": {
            "text/plain": [
              "tensor([[False,  True, False,  True],\n",
              "        [False, False, False, False],\n",
              "        [False, False, False, False]])"
            ]
          },
          "metadata": {},
          "execution_count": 11
        }
      ],
      "source": [
        "X == Y"
      ]
    },
    {
      "cell_type": "markdown",
      "id": "ffab6a71",
      "metadata": {
        "origin_pos": 64,
        "id": "ffab6a71"
      },
      "source": [
        "[**对张量中的所有元素进行求和，会产生一个单元素张量。**]\n"
      ]
    },
    {
      "cell_type": "code",
      "execution_count": 12,
      "id": "a13cb291",
      "metadata": {
        "execution": {
          "iopub.execute_input": "2023-08-18T07:05:03.153907Z",
          "iopub.status.busy": "2023-08-18T07:05:03.152814Z",
          "iopub.status.idle": "2023-08-18T07:05:03.160277Z",
          "shell.execute_reply": "2023-08-18T07:05:03.159188Z"
        },
        "origin_pos": 65,
        "tab": [
          "pytorch"
        ],
        "id": "a13cb291",
        "outputId": "b201c900-c11c-4d1d-bbe2-d245396f31c0",
        "colab": {
          "base_uri": "https://localhost:8080/"
        }
      },
      "outputs": [
        {
          "output_type": "execute_result",
          "data": {
            "text/plain": [
              "tensor(66.)"
            ]
          },
          "metadata": {},
          "execution_count": 12
        }
      ],
      "source": [
        "X.sum()"
      ]
    },
    {
      "cell_type": "markdown",
      "id": "e4420b99",
      "metadata": {
        "origin_pos": 67,
        "id": "e4420b99"
      },
      "source": [
        "## 广播机制\n",
        ":label:`subsec_broadcasting`\n",
        "\n",
        "在上面的部分中，我们看到了如何在相同形状的两个张量上执行按元素操作。\n",
        "在某些情况下，[**即使形状不同，我们仍然可以通过调用\n",
        "*广播机制*（broadcasting mechanism）来执行按元素操作**]。\n",
        "这种机制的工作方式如下：\n",
        "\n",
        "1. 通过适当复制元素来扩展一个或两个数组，以便在转换之后，两个张量具有相同的形状；\n",
        "2. 对生成的数组执行按元素操作。\n",
        "\n",
        "在大多数情况下，我们将沿着数组中长度为1的轴进行广播，如下例子：\n"
      ]
    },
    {
      "cell_type": "code",
      "execution_count": null,
      "id": "a1de79a2",
      "metadata": {
        "execution": {
          "iopub.execute_input": "2023-08-18T07:05:03.165305Z",
          "iopub.status.busy": "2023-08-18T07:05:03.164274Z",
          "iopub.status.idle": "2023-08-18T07:05:03.172771Z",
          "shell.execute_reply": "2023-08-18T07:05:03.171692Z"
        },
        "origin_pos": 69,
        "tab": [
          "pytorch"
        ],
        "id": "a1de79a2",
        "outputId": "f0b8de0f-1525-4cf8-8070-daec5ce09e6d"
      },
      "outputs": [
        {
          "data": {
            "text/plain": [
              "(tensor([[0],\n",
              "         [1],\n",
              "         [2]]),\n",
              " tensor([[0, 1]]))"
            ]
          },
          "execution_count": 15,
          "metadata": {},
          "output_type": "execute_result"
        }
      ],
      "source": [
        "a = torch.arange(3).reshape((3, 1))\n",
        "b = torch.arange(2).reshape((1, 2))\n",
        "a, b"
      ]
    },
    {
      "cell_type": "markdown",
      "id": "e4f53984",
      "metadata": {
        "origin_pos": 72,
        "id": "e4f53984"
      },
      "source": [
        "由于`a`和`b`分别是$3\\times1$和$1\\times2$矩阵，如果让它们相加，它们的形状不匹配。\n",
        "我们将两个矩阵*广播*为一个更大的$3\\times2$矩阵，如下所示：矩阵`a`将复制列，\n",
        "矩阵`b`将复制行，然后再按元素相加。\n"
      ]
    },
    {
      "cell_type": "code",
      "execution_count": null,
      "id": "4d8904b1",
      "metadata": {
        "execution": {
          "iopub.execute_input": "2023-08-18T07:05:03.177900Z",
          "iopub.status.busy": "2023-08-18T07:05:03.176935Z",
          "iopub.status.idle": "2023-08-18T07:05:03.184212Z",
          "shell.execute_reply": "2023-08-18T07:05:03.183156Z"
        },
        "origin_pos": 73,
        "tab": [
          "pytorch"
        ],
        "id": "4d8904b1",
        "outputId": "0509eafc-d3a5-4594-875f-f0150dc95100"
      },
      "outputs": [
        {
          "data": {
            "text/plain": [
              "tensor([[0, 1],\n",
              "        [1, 2],\n",
              "        [2, 3]])"
            ]
          },
          "execution_count": 16,
          "metadata": {},
          "output_type": "execute_result"
        }
      ],
      "source": [
        "a + b"
      ]
    },
    {
      "cell_type": "markdown",
      "id": "68b62722",
      "metadata": {
        "origin_pos": 74,
        "id": "68b62722"
      },
      "source": [
        "## 索引和切片\n",
        "\n",
        "就像在任何其他Python数组中一样，张量中的元素可以通过索引访问。\n",
        "与任何Python数组一样：第一个元素的索引是0，最后一个元素索引是-1；\n",
        "可以指定范围以包含第一个元素和最后一个之前的元素。\n",
        "\n",
        "如下所示，我们[**可以用`[-1]`选择最后一个元素，可以用`[1:3]`选择第二个和第三个元素**]：\n"
      ]
    },
    {
      "cell_type": "code",
      "execution_count": null,
      "id": "b62b00c7",
      "metadata": {
        "execution": {
          "iopub.execute_input": "2023-08-18T07:05:03.189786Z",
          "iopub.status.busy": "2023-08-18T07:05:03.188961Z",
          "iopub.status.idle": "2023-08-18T07:05:03.197712Z",
          "shell.execute_reply": "2023-08-18T07:05:03.196559Z"
        },
        "origin_pos": 75,
        "tab": [
          "pytorch"
        ],
        "id": "b62b00c7",
        "outputId": "08ddca3e-123d-4c7d-9af0-5b338f9bcd84"
      },
      "outputs": [
        {
          "data": {
            "text/plain": [
              "(tensor([ 8.,  9., 10., 11.]),\n",
              " tensor([[ 4.,  5.,  6.,  7.],\n",
              "         [ 8.,  9., 10., 11.]]))"
            ]
          },
          "execution_count": 17,
          "metadata": {},
          "output_type": "execute_result"
        }
      ],
      "source": [
        "X[-1], X[1:3]"
      ]
    },
    {
      "cell_type": "markdown",
      "id": "49b18803",
      "metadata": {
        "origin_pos": 76,
        "tab": [
          "pytorch"
        ],
        "id": "49b18803"
      },
      "source": [
        "[**除读取外，我们还可以通过指定索引来将元素写入矩阵。**]\n"
      ]
    },
    {
      "cell_type": "code",
      "execution_count": null,
      "id": "56a8261a",
      "metadata": {
        "execution": {
          "iopub.execute_input": "2023-08-18T07:05:03.203157Z",
          "iopub.status.busy": "2023-08-18T07:05:03.202390Z",
          "iopub.status.idle": "2023-08-18T07:05:03.210176Z",
          "shell.execute_reply": "2023-08-18T07:05:03.209097Z"
        },
        "origin_pos": 78,
        "tab": [
          "pytorch"
        ],
        "id": "56a8261a",
        "outputId": "38de76b5-f8fb-473b-8629-0462856b8911"
      },
      "outputs": [
        {
          "data": {
            "text/plain": [
              "tensor([[ 0.,  1.,  2.,  3.],\n",
              "        [ 4.,  5.,  9.,  7.],\n",
              "        [ 8.,  9., 10., 11.]])"
            ]
          },
          "execution_count": 18,
          "metadata": {},
          "output_type": "execute_result"
        }
      ],
      "source": [
        "X[1, 2] = 9\n",
        "X"
      ]
    },
    {
      "cell_type": "markdown",
      "id": "fdec2856",
      "metadata": {
        "origin_pos": 80,
        "id": "fdec2856"
      },
      "source": [
        "如果我们想[**为多个元素赋值相同的值，我们只需要索引所有元素，然后为它们赋值。**]\n",
        "例如，`[0:2, :]`访问第1行和第2行，其中“:”代表沿轴1（列）的所有元素。\n",
        "虽然我们讨论的是矩阵的索引，但这也适用于向量和超过2个维度的张量。\n"
      ]
    },
    {
      "cell_type": "code",
      "execution_count": null,
      "id": "bd48bae9",
      "metadata": {
        "execution": {
          "iopub.execute_input": "2023-08-18T07:05:03.214118Z",
          "iopub.status.busy": "2023-08-18T07:05:03.213430Z",
          "iopub.status.idle": "2023-08-18T07:05:03.221215Z",
          "shell.execute_reply": "2023-08-18T07:05:03.220084Z"
        },
        "origin_pos": 81,
        "tab": [
          "pytorch"
        ],
        "id": "bd48bae9",
        "outputId": "b3577ae9-ae47-4fa6-927e-ca51c96fdccc"
      },
      "outputs": [
        {
          "data": {
            "text/plain": [
              "tensor([[12., 12., 12., 12.],\n",
              "        [12., 12., 12., 12.],\n",
              "        [ 8.,  9., 10., 11.]])"
            ]
          },
          "execution_count": 19,
          "metadata": {},
          "output_type": "execute_result"
        }
      ],
      "source": [
        "X[0:2, :] = 12\n",
        "X"
      ]
    },
    {
      "cell_type": "markdown",
      "id": "79660f82",
      "metadata": {
        "origin_pos": 83,
        "id": "79660f82"
      },
      "source": [
        "## 节省内存\n",
        "\n",
        "[**运行一些操作可能会导致为新结果分配内存**]。\n",
        "例如，如果我们用`Y = X + Y`，我们将取消引用`Y`指向的张量，而是指向新分配的内存处的张量。\n",
        "\n",
        "在下面的例子中，我们用Python的`id()`函数演示了这一点，\n",
        "它给我们提供了内存中引用对象的确切地址。\n",
        "运行`Y = Y + X`后，我们会发现`id(Y)`指向另一个位置。\n",
        "这是因为Python首先计算`Y + X`，为结果分配新的内存，然后使`Y`指向内存中的这个新位置。\n"
      ]
    },
    {
      "cell_type": "code",
      "execution_count": null,
      "id": "6bcd6d07",
      "metadata": {
        "execution": {
          "iopub.execute_input": "2023-08-18T07:05:03.225106Z",
          "iopub.status.busy": "2023-08-18T07:05:03.224353Z",
          "iopub.status.idle": "2023-08-18T07:05:03.231715Z",
          "shell.execute_reply": "2023-08-18T07:05:03.230626Z"
        },
        "origin_pos": 84,
        "tab": [
          "pytorch"
        ],
        "id": "6bcd6d07",
        "outputId": "1a0948ca-202e-4f59-d7a7-9a996b125229"
      },
      "outputs": [
        {
          "data": {
            "text/plain": [
              "False"
            ]
          },
          "execution_count": 20,
          "metadata": {},
          "output_type": "execute_result"
        }
      ],
      "source": [
        "before = id(Y)\n",
        "Y = Y + X\n",
        "id(Y) == before"
      ]
    },
    {
      "cell_type": "markdown",
      "id": "fdb5a8e4",
      "metadata": {
        "origin_pos": 85,
        "id": "fdb5a8e4"
      },
      "source": [
        "这可能是不可取的，原因有两个：\n",
        "\n",
        "1. 首先，我们不想总是不必要地分配内存。在机器学习中，我们可能有数百兆的参数，并且在一秒内多次更新所有参数。通常情况下，我们希望原地执行这些更新；\n",
        "2. 如果我们不原地更新，其他引用仍然会指向旧的内存位置，这样我们的某些代码可能会无意中引用旧的参数。\n"
      ]
    },
    {
      "cell_type": "markdown",
      "id": "47e2e97c",
      "metadata": {
        "origin_pos": 86,
        "tab": [
          "pytorch"
        ],
        "id": "47e2e97c"
      },
      "source": [
        "幸运的是，(**执行原地操作**)非常简单。\n",
        "我们可以使用切片表示法将操作的结果分配给先前分配的数组，例如`Y[:] = <expression>`。\n",
        "为了说明这一点，我们首先创建一个新的矩阵`Z`，其形状与另一个`Y`相同，\n",
        "使用`zeros_like`来分配一个全$0$的块。\n"
      ]
    },
    {
      "cell_type": "code",
      "execution_count": null,
      "id": "13b7fdf6",
      "metadata": {
        "execution": {
          "iopub.execute_input": "2023-08-18T07:05:03.236933Z",
          "iopub.status.busy": "2023-08-18T07:05:03.236016Z",
          "iopub.status.idle": "2023-08-18T07:05:03.243252Z",
          "shell.execute_reply": "2023-08-18T07:05:03.242153Z"
        },
        "origin_pos": 89,
        "tab": [
          "pytorch"
        ],
        "id": "13b7fdf6",
        "outputId": "d4550fa6-cf30-4167-999a-1c8bc6417dd5"
      },
      "outputs": [
        {
          "name": "stdout",
          "output_type": "stream",
          "text": [
            "id(Z): 140327634811696\n",
            "id(Z): 140327634811696\n"
          ]
        }
      ],
      "source": [
        "Z = torch.zeros_like(Y)\n",
        "print('id(Z):', id(Z))\n",
        "Z[:] = X + Y\n",
        "print('id(Z):', id(Z))"
      ]
    },
    {
      "cell_type": "markdown",
      "id": "36a38425",
      "metadata": {
        "origin_pos": 92,
        "tab": [
          "pytorch"
        ],
        "id": "36a38425"
      },
      "source": [
        "[**如果在后续计算中没有重复使用`X`，\n",
        "我们也可以使用`X[:] = X + Y`或`X += Y`来减少操作的内存开销。**]\n"
      ]
    },
    {
      "cell_type": "code",
      "execution_count": null,
      "id": "c8a97d75",
      "metadata": {
        "execution": {
          "iopub.execute_input": "2023-08-18T07:05:03.248290Z",
          "iopub.status.busy": "2023-08-18T07:05:03.247521Z",
          "iopub.status.idle": "2023-08-18T07:05:03.255046Z",
          "shell.execute_reply": "2023-08-18T07:05:03.253935Z"
        },
        "origin_pos": 94,
        "tab": [
          "pytorch"
        ],
        "id": "c8a97d75",
        "outputId": "cccc13d6-0ef8-4c0f-fea0-887f1a8d2166"
      },
      "outputs": [
        {
          "data": {
            "text/plain": [
              "True"
            ]
          },
          "execution_count": 22,
          "metadata": {},
          "output_type": "execute_result"
        }
      ],
      "source": [
        "before = id(X)\n",
        "X += Y\n",
        "id(X) == before"
      ]
    },
    {
      "cell_type": "markdown",
      "id": "3185bd60",
      "metadata": {
        "origin_pos": 96,
        "id": "3185bd60"
      },
      "source": [
        "## 转换为其他Python对象\n"
      ]
    },
    {
      "cell_type": "markdown",
      "id": "d871a6fa",
      "metadata": {
        "origin_pos": 98,
        "tab": [
          "pytorch"
        ],
        "id": "d871a6fa"
      },
      "source": [
        "将深度学习框架定义的张量[**转换为NumPy张量（`ndarray`）**]很容易，反之也同样容易。\n",
        "torch张量和numpy数组将共享它们的底层内存，就地操作更改一个张量也会同时更改另一个张量。\n"
      ]
    },
    {
      "cell_type": "code",
      "execution_count": null,
      "id": "7386f580",
      "metadata": {
        "execution": {
          "iopub.execute_input": "2023-08-18T07:05:03.259655Z",
          "iopub.status.busy": "2023-08-18T07:05:03.259273Z",
          "iopub.status.idle": "2023-08-18T07:05:03.266501Z",
          "shell.execute_reply": "2023-08-18T07:05:03.265738Z"
        },
        "origin_pos": 100,
        "tab": [
          "pytorch"
        ],
        "id": "7386f580",
        "outputId": "19ef0d42-1a19-429e-cd0b-ce79ae55dde1"
      },
      "outputs": [
        {
          "data": {
            "text/plain": [
              "(numpy.ndarray, torch.Tensor)"
            ]
          },
          "execution_count": 23,
          "metadata": {},
          "output_type": "execute_result"
        }
      ],
      "source": [
        "A = X.numpy()\n",
        "B = torch.tensor(A)\n",
        "type(A), type(B)"
      ]
    },
    {
      "cell_type": "markdown",
      "id": "74f0ae4e",
      "metadata": {
        "origin_pos": 103,
        "id": "74f0ae4e"
      },
      "source": [
        "要(**将大小为1的张量转换为Python标量**)，我们可以调用`item`函数或Python的内置函数。\n"
      ]
    },
    {
      "cell_type": "code",
      "execution_count": null,
      "id": "10a429bd",
      "metadata": {
        "execution": {
          "iopub.execute_input": "2023-08-18T07:05:03.270566Z",
          "iopub.status.busy": "2023-08-18T07:05:03.270102Z",
          "iopub.status.idle": "2023-08-18T07:05:03.276982Z",
          "shell.execute_reply": "2023-08-18T07:05:03.276051Z"
        },
        "origin_pos": 105,
        "tab": [
          "pytorch"
        ],
        "id": "10a429bd",
        "outputId": "82f0bc56-8f23-4c5c-c23a-e5356fbc2ce0"
      },
      "outputs": [
        {
          "data": {
            "text/plain": [
              "(tensor([3.5000]), 3.5, 3.5, 3)"
            ]
          },
          "execution_count": 24,
          "metadata": {},
          "output_type": "execute_result"
        }
      ],
      "source": [
        "a = torch.tensor([3.5])\n",
        "a, a.item(), float(a), int(a)"
      ]
    },
    {
      "cell_type": "markdown",
      "id": "ed98db5b",
      "metadata": {
        "origin_pos": 108,
        "id": "ed98db5b"
      },
      "source": [
        "## 小结\n",
        "\n",
        "* 深度学习存储和操作数据的主要接口是张量（$n$维数组）。它提供了各种功能，包括基本数学运算、广播、索引、切片、内存节省和转换其他Python对象。\n",
        "\n",
        "## 练习\n",
        "\n",
        "1. 运行本节中的代码。将本节中的条件语句`X == Y`更改为`X < Y`或`X > Y`，然后看看你可以得到什么样的张量。\n",
        "1. 用其他形状（例如三维张量）替换广播机制中按元素操作的两个张量。结果是否与预期相同？\n"
      ]
    },
    {
      "cell_type": "markdown",
      "id": "161ce063",
      "metadata": {
        "origin_pos": 110,
        "tab": [
          "pytorch"
        ],
        "id": "161ce063"
      },
      "source": [
        "[Discussions](https://discuss.d2l.ai/t/1747)\n"
      ]
    }
  ],
  "metadata": {
    "kernelspec": {
      "display_name": "Python 3",
      "name": "python3"
    },
    "language_info": {
      "name": "python"
    },
    "required_libs": [],
    "colab": {
      "provenance": [],
      "include_colab_link": true
    }
  },
  "nbformat": 4,
  "nbformat_minor": 5
}